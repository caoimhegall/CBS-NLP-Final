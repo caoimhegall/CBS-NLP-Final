{
 "cells": [
  {
   "cell_type": "code",
   "execution_count": 38,
   "metadata": {},
   "outputs": [
    {
     "name": "stdout",
     "output_type": "stream",
     "text": [
      "Path to dataset files: /Users/eiriksundsoy/.cache/kagglehub/datasets/beridzeg45/book-reviews/versions/1\n"
     ]
    },
    {
     "data": {
      "text/html": [
       "<div>\n",
       "<style scoped>\n",
       "    .dataframe tbody tr th:only-of-type {\n",
       "        vertical-align: middle;\n",
       "    }\n",
       "\n",
       "    .dataframe tbody tr th {\n",
       "        vertical-align: top;\n",
       "    }\n",
       "\n",
       "    .dataframe thead th {\n",
       "        text-align: right;\n",
       "    }\n",
       "</style>\n",
       "<table border=\"1\" class=\"dataframe\">\n",
       "  <thead>\n",
       "    <tr style=\"text-align: right;\">\n",
       "      <th></th>\n",
       "      <th>Unnamed: 0</th>\n",
       "      <th>Book</th>\n",
       "      <th>Review</th>\n",
       "      <th>Review Date</th>\n",
       "    </tr>\n",
       "  </thead>\n",
       "  <tbody>\n",
       "    <tr>\n",
       "      <th>0</th>\n",
       "      <td>0</td>\n",
       "      <td>To Kill a Mockingbird</td>\n",
       "      <td>/// gentle reminder that this is not the time ...</td>\n",
       "      <td>March 24, 2022</td>\n",
       "    </tr>\n",
       "    <tr>\n",
       "      <th>1</th>\n",
       "      <td>1</td>\n",
       "      <td>To Kill a Mockingbird</td>\n",
       "      <td>\\n|\\n|6.0 stars. I know I am risking a serious...</td>\n",
       "      <td>May 24, 2011</td>\n",
       "    </tr>\n",
       "    <tr>\n",
       "      <th>2</th>\n",
       "      <td>2</td>\n",
       "      <td>To Kill a Mockingbird</td>\n",
       "      <td>\\n|\\n|Looking for a new book but don't want to...</td>\n",
       "      <td>December 10, 2020</td>\n",
       "    </tr>\n",
       "    <tr>\n",
       "      <th>3</th>\n",
       "      <td>3</td>\n",
       "      <td>To Kill a Mockingbird</td>\n",
       "      <td>To Kill a Mockingbird, Harper Lee|To Kill a Mo...</td>\n",
       "      <td>July 1, 2022</td>\n",
       "    </tr>\n",
       "    <tr>\n",
       "      <th>4</th>\n",
       "      <td>4</td>\n",
       "      <td>To Kill a Mockingbird</td>\n",
       "      <td>Why is it when I pick up | To Kill A Mockingbi...</td>\n",
       "      <td>October 25, 2009</td>\n",
       "    </tr>\n",
       "  </tbody>\n",
       "</table>\n",
       "</div>"
      ],
      "text/plain": [
       "   Unnamed: 0                   Book  \\\n",
       "0           0  To Kill a Mockingbird   \n",
       "1           1  To Kill a Mockingbird   \n",
       "2           2  To Kill a Mockingbird   \n",
       "3           3  To Kill a Mockingbird   \n",
       "4           4  To Kill a Mockingbird   \n",
       "\n",
       "                                              Review        Review Date  \n",
       "0  /// gentle reminder that this is not the time ...     March 24, 2022  \n",
       "1  \\n|\\n|6.0 stars. I know I am risking a serious...       May 24, 2011  \n",
       "2  \\n|\\n|Looking for a new book but don't want to...  December 10, 2020  \n",
       "3  To Kill a Mockingbird, Harper Lee|To Kill a Mo...       July 1, 2022  \n",
       "4  Why is it when I pick up | To Kill A Mockingbi...   October 25, 2009  "
      ]
     },
     "execution_count": 38,
     "metadata": {},
     "output_type": "execute_result"
    }
   ],
   "source": [
    "import pandas as pd\n",
    "from langdetect import detect\n",
    "import re\n",
    "import unicodedata\n",
    "\n",
    "\n",
    "# Load dataset\n",
    "import kagglehub\n",
    "import pandas as pd\n",
    "\n",
    "# Download latest version\n",
    "path = kagglehub.dataset_download(\"beridzeg45/book-reviews\")\n",
    "\n",
    "print(\"Path to dataset files:\", path)\n",
    "df = pd.read_csv(path + \"/Book Reviews.csv\")\n",
    "df.head()"
   ]
  },
  {
   "cell_type": "code",
   "execution_count": 39,
   "metadata": {},
   "outputs": [
    {
     "data": {
      "text/plain": [
       "count                     32081\n",
       "unique                     1096\n",
       "top       To Kill a Mockingbird\n",
       "freq                         30\n",
       "Name: Book, dtype: object"
      ]
     },
     "execution_count": 39,
     "metadata": {},
     "output_type": "execute_result"
    }
   ],
   "source": [
    "df['Book'].describe()"
   ]
  },
  {
   "cell_type": "code",
   "execution_count": 40,
   "metadata": {},
   "outputs": [
    {
     "name": "stdout",
     "output_type": "stream",
     "text": [
      "<class 'pandas.core.frame.DataFrame'>\n",
      "RangeIndex: 32081 entries, 0 to 32080\n",
      "Data columns (total 4 columns):\n",
      " #   Column       Non-Null Count  Dtype \n",
      "---  ------       --------------  ----- \n",
      " 0   Unnamed: 0   32081 non-null  int64 \n",
      " 1   Book         32081 non-null  object\n",
      " 2   Review       31772 non-null  object\n",
      " 3   Review Date  32081 non-null  object\n",
      "dtypes: int64(1), object(3)\n",
      "memory usage: 1002.7+ KB\n"
     ]
    }
   ],
   "source": [
    "df.info()"
   ]
  },
  {
   "cell_type": "code",
   "execution_count": 41,
   "metadata": {},
   "outputs": [],
   "source": [
    "#Drop rows with missing values\n",
    "\n",
    "df = df.dropna(subset=['Book', 'Review'])"
   ]
  },
  {
   "cell_type": "code",
   "execution_count": 42,
   "metadata": {},
   "outputs": [
    {
     "name": "stdout",
     "output_type": "stream",
     "text": [
      "<class 'pandas.core.frame.DataFrame'>\n",
      "Index: 31772 entries, 0 to 32080\n",
      "Data columns (total 4 columns):\n",
      " #   Column       Non-Null Count  Dtype \n",
      "---  ------       --------------  ----- \n",
      " 0   Unnamed: 0   31772 non-null  int64 \n",
      " 1   Book         31772 non-null  object\n",
      " 2   Review       31772 non-null  object\n",
      " 3   Review Date  31772 non-null  object\n",
      "dtypes: int64(1), object(3)\n",
      "memory usage: 1.2+ MB\n"
     ]
    }
   ],
   "source": [
    "df.info()"
   ]
  },
  {
   "cell_type": "code",
   "execution_count": 43,
   "metadata": {},
   "outputs": [],
   "source": [
    "# --- Language filter ---\n",
    "def is_english(text):\n",
    "    try:\n",
    "        return detect(text) == 'en'\n",
    "    except:\n",
    "        return False\n",
    "\n",
    "df = df[df['Review'].apply(is_english)].reset_index(drop=True)\n",
    "\n",
    "# --- Normalize + clean reviews ---\n",
    "def clean_text(text):\n",
    "\n",
    "    # Remove URLs\n",
    "    text = re.sub(r'http\\S+|www\\S+', '', text)\n",
    "\n",
    "    # Remove emojis and symbols\n",
    "    text = ''.join(c for c in text if unicodedata.category(c)[0] != \"So\")\n",
    "\n",
    "    # Remove HTML tags\n",
    "    text = re.sub(r'<.*?>', '', text)\n",
    "\n",
    "    return text\n",
    "\n",
    "df['Review'] = df['Review'].astype(str).apply(clean_text)\n",
    "\n",
    "#Remove duplicate reviews\n",
    "df = df.drop_duplicates(subset=['Book', 'Review']).reset_index(drop=True)\n",
    "\n",
    "# Word count for later filtering\n",
    "df['review_word_count'] = df['Review'].str.split().str.len()\n"
   ]
  },
  {
   "cell_type": "code",
   "execution_count": 44,
   "metadata": {},
   "outputs": [
    {
     "name": "stdout",
     "output_type": "stream",
     "text": [
      "\n",
      " Review word count distribution:\n",
      "count    23045.000000\n",
      "mean       372.936255\n",
      "std        405.346083\n",
      "min          1.000000\n",
      "25%        113.000000\n",
      "50%        250.000000\n",
      "75%        487.000000\n",
      "max       3656.000000\n",
      "Name: review_word_count, dtype: float64\n"
     ]
    }
   ],
   "source": [
    "# Optional: check review word count distribution\n",
    "df['review_word_count'] = df['Review'].str.split().str.len()\n",
    "print(\"\\n Review word count distribution:\")\n",
    "print(df['review_word_count'].describe())\n"
   ]
  },
  {
   "cell_type": "code",
   "execution_count": 45,
   "metadata": {},
   "outputs": [
    {
     "data": {
      "image/png": "[encoded data removed]",
      "text/plain": [
       "<Figure size 640x480 with 1 Axes>"
      ]
     },
     "metadata": {},
     "output_type": "display_data"
    }
   ],
   "source": [
    "import matplotlib.pyplot as plt\n",
    "\n",
    "df['review_word_count'].hist(bins=50)\n",
    "plt.title(\"Review Word Count Distribution\")\n",
    "plt.xlabel(\"Word Count\")\n",
    "plt.ylabel(\"Frequency\")\n",
    "plt.show()\n"
   ]
  },
  {
   "cell_type": "code",
   "execution_count": 46,
   "metadata": {},
   "outputs": [],
   "source": [
    "# Aggregate reviews into a structured, model-friendly format\n",
    "aggregated_reviews = (\n",
    "    df\n",
    "    .groupby('Book')['Review']\n",
    "    .apply(lambda reviews: '\\n'.join([f\"Review: {r.strip()}\" for r in reviews]))\n",
    "    .reset_index()\n",
    "    .rename(columns={'Review': 'Aggregated_Reviews'})\n",
    ")\n",
    "\n",
    "# Calculate total word count per book\n",
    "aggregated_reviews['Total_Word_Count'] = aggregated_reviews['Aggregated_Reviews'].str.split().str.len()\n"
   ]
  },
  {
   "cell_type": "code",
   "execution_count": 47,
   "metadata": {},
   "outputs": [],
   "source": [
    "# Filter out books with fewer than 200 total words, to make sure the models dont try to summarize books with little data to make summaries\n",
    "aggregated_reviews = aggregated_reviews[aggregated_reviews['Total_Word_Count'] >= 200].reset_index(drop=True)"
   ]
  },
  {
   "cell_type": "code",
   "execution_count": 48,
   "metadata": {},
   "outputs": [
    {
     "name": "stdout",
     "output_type": "stream",
     "text": [
      "\n",
      " Preview of aggregated reviews:\n",
      "                    Book                                 Aggregated_Reviews  \\\n",
      "0                  10:04  Review: I’m going to let the text of 10:04 by ...   \n",
      "1                   1984  Review: YOU. ARE. THE. DEAD.| Oh my God. I got...   \n",
      "2      1Q84 (1Q84, #1-3)  Review: 1Q84 is undoubtedly the biggest litera...   \n",
      "3  2001: A Space Odyssey  Review: The book is always better than the fil...   \n",
      "4                   2666  Review: Roberto Bolaño's |2666| has been descr...   \n",
      "\n",
      "   Total_Word_Count  \n",
      "0              9190  \n",
      "1              8255  \n",
      "2             13200  \n",
      "3             10390  \n",
      "4             17994  \n"
     ]
    }
   ],
   "source": [
    "print(\"\\n Preview of aggregated reviews:\")\n",
    "print(aggregated_reviews.head())"
   ]
  },
  {
   "cell_type": "code",
   "execution_count": 49,
   "metadata": {},
   "outputs": [
    {
     "name": "stdout",
     "output_type": "stream",
     "text": [
      "\n",
      " Total word count per book (after filtering):\n",
      "count     1085.000000\n",
      "mean      7941.508756\n",
      "std       4321.011440\n",
      "min        210.000000\n",
      "25%       4848.000000\n",
      "50%       7553.000000\n",
      "75%      10746.000000\n",
      "max      31072.000000\n",
      "Name: Total_Word_Count, dtype: float64\n"
     ]
    }
   ],
   "source": [
    "print(\"\\n Total word count per book (after filtering):\")\n",
    "print(aggregated_reviews['Total_Word_Count'].describe())"
   ]
  },
  {
   "cell_type": "code",
   "execution_count": 50,
   "metadata": {},
   "outputs": [
    {
     "data": {
      "image/png": "[encoded data removed]",
      "text/plain": [
       "<Figure size 640x480 with 1 Axes>"
      ]
     },
     "metadata": {},
     "output_type": "display_data"
    }
   ],
   "source": [
    "# Visualize with a histogram distribution of total word counts per book\n",
    "aggregated_reviews['Total_Word_Count'].hist(bins=50)\n",
    "plt.title(\"Total Word Count Distribution per Book\")\n",
    "plt.xlabel(\"Total Word Count\")\n",
    "plt.ylabel(\"Frequency\")\n",
    "plt.show()"
   ]
  },
  {
   "cell_type": "code",
   "execution_count": 78,
   "metadata": {},
   "outputs": [
    {
     "name": "stdout",
     "output_type": "stream",
     "text": [
      "'Cataract' has a total word count of 533, which is in the 1.01382th percentile of all books.\n",
      "'The Afternoon of a Writer' has a total word count of 2024, which is in the 6.82028th percentile of all books.\n",
      "'The History of the Siege of Lisbon' has a total word count of 5381, which is in the 30.13825th percentile of all books.\n",
      "'Flaubert's Parrot' has a total word count of 9241, which is in the 64.88479th percentile of all books.\n",
      "'Infinite Jest' has a total word count of 31072, which is in the 99.90783th percentile of all books.\n"
     ]
    }
   ],
   "source": [
    "#print the percentile of 'The History of the Siege of Lisbon' and 'Flaubert's Parrot'\n",
    "book_titles = ['Cataract', 'The Afternoon of a Writer', 'The History of the Siege of Lisbon', \"Flaubert's Parrot\", 'Infinite Jest']\n",
    "for title in book_titles:\n",
    "    if title in aggregated_reviews['Book'].values:\n",
    "        word_count = aggregated_reviews.loc[aggregated_reviews['Book'] == title, 'Total_Word_Count'].values[0]\n",
    "        percentile = (aggregated_reviews['Total_Word_Count'] < word_count).mean() * 100\n",
    "        print(f\"'{title}' has a total word count of {word_count}, which is in the {percentile:.5f}th percentile of all books.\")\n",
    "    else:\n",
    "        print(f\"'{title}' not found in the dataset.\")"
   ]
  },
  {
   "cell_type": "code",
   "execution_count": 88,
   "metadata": {},
   "outputs": [
    {
     "name": "stdout",
     "output_type": "stream",
     "text": [
      "\n",
      " Books selected for testing:\n",
      "                                 Book  Total_Word_Count\n",
      "0                            Cataract               533\n",
      "1           The Afternoon of a Writer              2024\n",
      "2  The History of the Siege of Lisbon              5381\n",
      "3                   Flaubert's Parrot              9241\n",
      "4                       Infinite Jest             31072\n",
      "Index(['Unnamed: 0', 'Book', 'Review', 'Review Date', 'review_word_count'], dtype='object')\n"
     ]
    }
   ],
   "source": [
    "# Here we find the books with word counts in 5 different categories, to make sure the models perform well across a range of review content.\n",
    "percentiles = [0.01, 0.068, 0.302, 0.649, 0.9999]\n",
    "targets = aggregated_reviews['Total_Word_Count'].quantile(percentiles)\n",
    "\n",
    "selected_books = pd.concat([\n",
    "    aggregated_reviews.iloc[(aggregated_reviews['Total_Word_Count'] - target).abs().argsort().head(1)]\n",
    "    for target in targets\n",
    "]).drop_duplicates(subset='Book').reset_index(drop=True)\n",
    "\n",
    "print(\"\\n Books selected for testing:\")\n",
    "print(selected_books[['Book', 'Total_Word_Count']])\n",
    "\n",
    "print(df.columns)"
   ]
  },
  {
   "cell_type": "code",
   "execution_count": 89,
   "metadata": {},
   "outputs": [
    {
     "name": "stdout",
     "output_type": "stream",
     "text": [
      "\n",
      " Final book list for testing:\n",
      "                                 Book  Total_Word_Count\n",
      "0                            Cataract               533\n",
      "1           The Afternoon of a Writer              2024\n",
      "2  The History of the Siege of Lisbon              5381\n",
      "3                   Flaubert's Parrot              9241\n",
      "4                       Infinite Jest             31072\n",
      "5                                1984              8255\n",
      "6                         Animal Farm              7582\n",
      "7                Crime and Punishment             12853\n",
      "8                           Jane Eyre             14592\n",
      "9               To Kill a Mockingbird             11975\n"
     ]
    }
   ],
   "source": [
    "# Books to include that we have read and can manually inspect\n",
    "books_to_add = [\n",
    "    'To Kill a Mockingbird', '1984', 'Jane Eyre', 'Animal Farm', 'Crime and Punishment'\n",
    "]\n",
    "\n",
    "missing_books = [book for book in books_to_add if book not in selected_books['Book'].values]\n",
    "\n",
    "additional_books = aggregated_reviews[aggregated_reviews['Book'].isin(missing_books)]\n",
    "\n",
    "selected_books = pd.concat([selected_books, additional_books], ignore_index=True)\n",
    "\n",
    "# Preview result\n",
    "print(\"\\n Final book list for testing:\")\n",
    "print(selected_books[['Book', 'Total_Word_Count']])\n"
   ]
  },
  {
   "cell_type": "code",
   "execution_count": 116,
   "metadata": {},
   "outputs": [
    {
     "name": "stdout",
     "output_type": "stream",
     "text": [
      "Summarizing 1/10: Cataract\n",
      "Summarizing 2/10: The Afternoon of a Writer\n",
      "Summarizing 3/10: The History of the Siege of Lisbon\n",
      "Summarizing 4/10: Flaubert's Parrot\n",
      "Summarizing 5/10: Infinite Jest\n",
      "Summarizing 6/10: 1984\n",
      "Summarizing 7/10: Animal Farm\n",
      "Summarizing 8/10: Crime and Punishment\n",
      "Summarizing 9/10: Jane Eyre\n",
      "Summarizing 10/10: To Kill a Mockingbird\n",
      "\n",
      "Summary for: Cataract\n",
      "- Mykhaylo Osadchy's |Cataract| is world-class on the level of the novel (as shalamov for the short story) The author references so many people with similar names that even the footnotes were of little use. The book proves that we are lucky to live where we live, and to not live under the circumstances that the Soviets lived under.\n",
      "\n",
      "Summary for: The Afternoon of a Writer\n",
      "- Peter Handke's short novel is about a writer who suffers from writer's block. The narrator takes a walk around town to get rid of the block. It is a meditation on what it is to live one of the many days that a writer may live. The author says he was triggered by a string of emotionally difficult, but rewarding reading experiences.\n",
      "\n",
      "Summary for: The History of the Siege of Lisbon\n",
      "- Review: Historical science and the real past of the mankind. Review: This work is a pocket of 342 pages but paving by the density of the text.Review: In the glowing light of the day and in the rosy spirit of the present calendar week (romance in the air...) I am overwhelmed with positive emotions.\n",
      "\n",
      "Summary for: Flaubert's Parrot\n",
      "- Review: How can we know the past? Old articles are silent witnesses of the days gone. The old object in question is a green stuffed parrot. Julian Barnes doesn’t write a biography… He researches Gustave Flaubert’s life. Therefore even the dreams that didn't come to pass become a part of history.\n",
      "\n",
      "Summary for: Infinite Jest\n",
      "- Wallace's prose is awkward, unlovely, and try-hard, with outbreaks of horrendous juvenile alliteration. The writing style is certainly innovative, but mainly in the sense that he soundsilicitous in ways that no one has come up with before. His pile-ups of noun-phases are particularly awkward, the nouns’ genrases so aggressively correct that they actually manage to look wrong. Overall there was a horrible uncertainty of tone, the narrative voice was highly compulsively compulsively slangy. I like writers who hit home with their thoughts before typing them out.\n",
      "\n",
      "Summary for: 1984\n",
      "- The world-building is so fully fleshed out and spine-tinglingly terrifying that it's almost as if George travelled to such a place, escaped from it, and then just wrote it all down. I developed a strong attachment to Winston and thrived on living inside his mind. The relationship between Julia and Winston was truly profound.\n",
      "\n",
      "Summary for: Animal Farm\n",
      "- The book is banned in Cuba, North Korea, Burma, Iran, Kenya and most Arab countries. It is still censored in Vietnam. After the move prompted outcry and comparisons to Nineteen Eighty-Four itself, Amazon spokesman Drew Herdener stated that the company is \"changing our systems so that in the future we will not remove books from customers' devices\"\n",
      "\n",
      "Summary for: Crime and Punishment\n",
      "- First published in 1866, |Crime and Punishment| is the excruciatingly-detailed psycho-epic about the murder of a pawn shop owner (and her sister) The murderer is named Raskolnikov. He is smug, arrogant, temperamental, condescending and self-delusional.\n",
      "\n",
      "Summary for: Jane Eyre\n",
      "- When I read it for the first time as a young and opinionated teen, I thought Jane Eyre was a boring and meek protagonist. She sticks to her morals and her idea of what is wrong or right regardless of what outcome is in it for her. Jane refuses to take the steps that would destroy her integrity in her own eyes, and for that she has my strongest and most sincere admiration.\n",
      "\n",
      "Summary for: To Kill a Mockingbird\n",
      "- This book was written by a white woman, from a white perspective, about white characters, for a white audience. This book is a disgrace in the face of the Black liberation movements that existed back in the day. Black people stood up for themselves and fought for their rights, and only due to their voices, their protests, their sit-ins, their marches, their demonstrations, their conferences, was racial segregation made unconstitutional in the United States.\n"
     ]
    }
   ],
   "source": [
    "from transformers import AutoTokenizer, AutoModelForSeq2SeqLM\n",
    "import torch\n",
    "import re\n",
    "\n",
    "tokenizer = AutoTokenizer.from_pretrained(\"facebook/bart-large-cnn\")\n",
    "model = AutoModelForSeq2SeqLM.from_pretrained(\"facebook/bart-large-cnn\")\n",
    "\n",
    "prompt = ()\n",
    "\n",
    "subset = selected_books  \n",
    "\n",
    "book_summaries = {}\n",
    "for i, row in subset.iterrows():\n",
    "    book = row['Book']\n",
    "    text = row['Aggregated_Reviews']\n",
    "    print(f\"Summarizing {i+1}/{len(subset)}: {book}\")\n",
    "\n",
    "\n",
    "    words = text.split()\n",
    "    chunks = [' '.join(words[i:i + 500]) for i in range(0, len(words), 500)]\n",
    "    chunk_input = ' '.join(chunks[:2])\n",
    "\n",
    "\n",
    "    input_text = f\"{prompt}\\n\\n{chunk_input}\"\n",
    "    inputs = tokenizer(input_text, return_tensors=\"pt\", max_length=1024, truncation=True)\n",
    "\n",
    "    output_ids = model.generate(\n",
    "        **inputs,\n",
    "        max_length=140,\n",
    "        min_length=60,\n",
    "        num_beams=6,\n",
    "    )\n",
    "\n",
    "    result = tokenizer.decode(output_ids[0], skip_special_tokens=True)\n",
    "\n",
    "    book_summaries[book] = result\n",
    "\n",
    "# Print summaries\n",
    "for book, summary in book_summaries.items():\n",
    "    print(f\"\\nSummary for: {book}\")\n",
    "    print(f\"- {summary}\")\n",
    "\n"
   ]
  },
  {
   "cell_type": "code",
   "execution_count": 117,
   "metadata": {},
   "outputs": [
    {
     "name": "stderr",
     "output_type": "stream",
     "text": [
      "Some weights of RobertaModel were not initialized from the model checkpoint at roberta-large and are newly initialized: ['pooler.dense.bias', 'pooler.dense.weight']\n",
      "You should probably TRAIN this model on a down-stream task to be able to use it for predictions and inference.\n"
     ]
    },
    {
     "name": "stdout",
     "output_type": "stream",
     "text": [
      "calculating scores...\n",
      "computing bert embedding.\n"
     ]
    },
    {
     "data": {
      "application/vnd.jupyter.widget-view+json": {
       "model_id": "186b810f63694ce8acde0b27abf6f182",
       "version_major": 2,
       "version_minor": 0
      },
      "text/plain": [
       "  0%|          | 0/1 [00:00<?, ?it/s]"
      ]
     },
     "metadata": {},
     "output_type": "display_data"
    },
    {
     "name": "stdout",
     "output_type": "stream",
     "text": [
      "computing greedy matching.\n"
     ]
    },
    {
     "data": {
      "application/vnd.jupyter.widget-view+json": {
       "model_id": "66cd3719ea934e019f58832136d7391a",
       "version_major": 2,
       "version_minor": 0
      },
      "text/plain": [
       "  0%|          | 0/1 [00:00<?, ?it/s]"
      ]
     },
     "metadata": {},
     "output_type": "display_data"
    },
    {
     "name": "stdout",
     "output_type": "stream",
     "text": [
      "done in 7.67 seconds, 1.30 sentences/sec\n",
      "\n",
      " BERTScore Results:\n",
      "+------------------------------------+----------+-----------+--------+\n",
      "|             Book Title             | F1 Score | Precision | Recall |\n",
      "+------------------------------------+----------+-----------+--------+\n",
      "|              Cataract              |   0.85   |    0.89   |  0.80  |\n",
      "|     The Afternoon of a Writer      |   0.84   |    0.88   |  0.80  |\n",
      "| The History of the Siege of Lisbon |   0.83   |    0.88   |  0.79  |\n",
      "|         Flaubert's Parrot          |   0.87   |    0.95   |  0.81  |\n",
      "|           Infinite Jest            |   0.80   |    0.83   |  0.77  |\n",
      "|                1984                |   0.85   |    0.91   |  0.80  |\n",
      "|            Animal Farm             |   0.86   |    0.93   |  0.81  |\n",
      "|        Crime and Punishment        |   0.86   |    0.92   |  0.80  |\n",
      "|             Jane Eyre              |   0.85   |    0.90   |  0.80  |\n",
      "|       To Kill a Mockingbird        |   0.88   |    0.94   |  0.83  |\n",
      "+------------------------------------+----------+-----------+--------+\n",
      "\n",
      " Average F1 Score: 0.8491\n"
     ]
    }
   ],
   "source": [
    "from bert_score import score\n",
    "from prettytable import PrettyTable\n",
    "\n",
    "# Prepare candidate summaries and references\n",
    "candidates = [book_summaries[book] for book in selected_books['Book']]\n",
    "references = [selected_books[selected_books['Book'] == book]['Aggregated_Reviews'].values[0]\n",
    "              for book in selected_books['Book']]\n",
    "\n",
    "# Compute BERT scores\n",
    "P, R, F1 = score(candidates, references, lang=\"en\", verbose=True)\n",
    "\n",
    "# Initialize table\n",
    "table = PrettyTable()\n",
    "table.field_names = [\"Book Title\", \"F1 Score\", \"Precision\", \"Recall\"]\n",
    "\n",
    "# Add rows\n",
    "for i, book in enumerate(selected_books['Book']):\n",
    "    table.add_row([\n",
    "        book,\n",
    "        f\"{F1[i].item():.2f}\",\n",
    "        f\"{P[i].item():.2f}\",\n",
    "        f\"{R[i].item():.2f}\"\n",
    "    ])\n",
    "\n",
    "# Print table and average\n",
    "print(\"\\n BERTScore Results:\")\n",
    "print(table)\n",
    "print(f\"\\n Average F1 Score: {F1.mean().item():.4f}\")\n"
   ]
  }
 ],
 "metadata": {
  "kernelspec": {
   "display_name": "base",
   "language": "python",
   "name": "python3"
  },
  "language_info": {
   "codemirror_mode": {
    "name": "ipython",
    "version": 3
   },
   "file_extension": ".py",
   "mimetype": "text/x-python",
   "name": "python",
   "nbconvert_exporter": "python",
   "pygments_lexer": "ipython3",
   "version": "3.12.4"
  }
 },
 "nbformat": 4,
 "nbformat_minor": 2
}
