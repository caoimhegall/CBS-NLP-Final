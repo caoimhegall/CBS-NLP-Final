{
 "cells": [
  {
   "cell_type": "code",
   "execution_count": 51,
   "metadata": {},
   "outputs": [],
   "source": [
    "import pandas as pd\n",
    "from langdetect import detect\n",
    "import re\n",
    "import unicodedata\n",
    "\n",
    "\n",
    "# Load dataset\n",
    "df = pd.read_csv(path + \"/Book Reviews.csv\")\n",
    "df = df.dropna(subset=['Review'])\n",
    "\n",
    "# --- Language filter ---\n",
    "def is_english(text):\n",
    "    try:\n",
    "        return detect(text) == 'en'\n",
    "    except:\n",
    "        return False\n",
    "\n",
    "df = df[df['Review'].apply(is_english)].reset_index(drop=True)\n",
    "\n",
    "# --- Normalize + clean reviews ---\n",
    "def clean_text(text):\n",
    "\n",
    "    # Remove URLs\n",
    "    text = re.sub(r'http\\S+|www\\S+', '', text)\n",
    "\n",
    "    # Remove emojis and symbols\n",
    "    text = ''.join(c for c in text if unicodedata.category(c)[0] != \"So\")\n",
    "\n",
    "    # Remove HTML tags\n",
    "    text = re.sub(r'<.*?>', '', text)\n",
    "\n",
    "    # Remove non-letter characters except basic punctuation\n",
    "    text = re.sub(r\"[^a-zA-Z0-9.,!?'\\s]\", ' ', text)\n",
    "\n",
    "    # Collapse multiple spaces\n",
    "    text = re.sub(r'\\s+', ' ', text).strip()\n",
    "\n",
    "    return text\n",
    "\n",
    "df['Review'] = df['Review'].astype(str).apply(clean_text)\n",
    "\n",
    "#Remove duplicate reviews\n",
    "df = df.drop_duplicates(subset=['Book', 'Review']).reset_index(drop=True)\n",
    "\n",
    "# Word count for later filtering\n",
    "df['review_word_count'] = df['Review'].str.split().str.len()\n"
   ]
  },
  {
   "cell_type": "code",
   "execution_count": 52,
   "metadata": {},
   "outputs": [
    {
     "name": "stdout",
     "output_type": "stream",
     "text": [
      "\n",
      " Review word count distribution:\n",
      "count    23047.000000\n",
      "mean       381.611186\n",
      "std        416.905109\n",
      "min          1.000000\n",
      "25%        115.000000\n",
      "50%        255.000000\n",
      "75%        498.000000\n",
      "max       3730.000000\n",
      "Name: review_word_count, dtype: float64\n"
     ]
    }
   ],
   "source": [
    "# Optional: check review word count distribution\n",
    "df['review_word_count'] = df['Review'].str.split().str.len()\n",
    "print(\"\\n Review word count distribution:\")\n",
    "print(df['review_word_count'].describe())\n"
   ]
  },
  {
   "cell_type": "code",
   "execution_count": 53,
   "metadata": {},
   "outputs": [
    {
     "data": {
      "image/png": "[encoded data removed]",
      "text/plain": [
       "<Figure size 640x480 with 1 Axes>"
      ]
     },
     "metadata": {},
     "output_type": "display_data"
    }
   ],
   "source": [
    "import matplotlib.pyplot as plt\n",
    "\n",
    "df['review_word_count'].hist(bins=50)\n",
    "plt.title(\"Review Word Count Distribution\")\n",
    "plt.xlabel(\"Word Count\")\n",
    "plt.ylabel(\"Frequency\")\n",
    "plt.show()\n"
   ]
  },
  {
   "cell_type": "code",
   "execution_count": 54,
   "metadata": {},
   "outputs": [],
   "source": [
    "# Aggregate reviews into a structured, model-friendly format\n",
    "aggregated_reviews = (\n",
    "    df\n",
    "    .groupby('Book')['Review']\n",
    "    .apply(lambda reviews: '\\n'.join([f\"Review: {r.strip()}\" for r in reviews]))\n",
    "    .reset_index()\n",
    "    .rename(columns={'Review': 'Aggregated_Reviews'})\n",
    ")\n",
    "\n",
    "# Calculate total word count per book\n",
    "aggregated_reviews['Total_Word_Count'] = aggregated_reviews['Aggregated_Reviews'].str.split().str.len()\n"
   ]
  },
  {
   "cell_type": "code",
   "execution_count": 55,
   "metadata": {},
   "outputs": [],
   "source": [
    "# Filter out books with fewer than 200 total words, to make sure the models dont try to summarize books with little data to make summaries\n",
    "aggregated_reviews = aggregated_reviews[aggregated_reviews['Total_Word_Count'] >= 200].reset_index(drop=True)"
   ]
  },
  {
   "cell_type": "code",
   "execution_count": 56,
   "metadata": {},
   "outputs": [
    {
     "name": "stdout",
     "output_type": "stream",
     "text": [
      "\n",
      " Preview of aggregated reviews:\n",
      "                    Book                                 Aggregated_Reviews  \\\n",
      "0                  10:04  Review: I m going to let the text of 10 04 by ...   \n",
      "1                   1984  Review: YOU. ARE. THE. DEAD. Oh my God. I got ...   \n",
      "2      1Q84 (1Q84, #1-3)  Review: 1Q84 is undoubtedly the biggest litera...   \n",
      "3  2001: A Space Odyssey  Review: The book is always better than the fil...   \n",
      "4                   2666  Review: Roberto Bola o's 2666 has been describ...   \n",
      "\n",
      "   Total_Word_Count  \n",
      "0              9478  \n",
      "1              8502  \n",
      "2             13677  \n",
      "3             10734  \n",
      "4             18564  \n"
     ]
    }
   ],
   "source": [
    "print(\"\\n Preview of aggregated reviews:\")\n",
    "print(aggregated_reviews.head())"
   ]
  },
  {
   "cell_type": "code",
   "execution_count": 57,
   "metadata": {},
   "outputs": [
    {
     "name": "stdout",
     "output_type": "stream",
     "text": [
      "\n",
      " Total word count per book (after filtering):\n",
      "count     1085.000000\n",
      "mean      8126.453456\n",
      "std       4438.843997\n",
      "min        213.000000\n",
      "25%       4940.000000\n",
      "50%       7718.000000\n",
      "75%      10991.000000\n",
      "max      32373.000000\n",
      "Name: Total_Word_Count, dtype: float64\n"
     ]
    }
   ],
   "source": [
    "print(\"\\n Total word count per book (after filtering):\")\n",
    "print(aggregated_reviews['Total_Word_Count'].describe())"
   ]
  },
  {
   "cell_type": "code",
   "execution_count": 58,
   "metadata": {},
   "outputs": [
    {
     "name": "stdout",
     "output_type": "stream",
     "text": [
      "\n",
      " Books selected for testing:\n",
      "                         Book  Total_Word_Count\n",
      "0                    Cataract               545\n",
      "1   The Afternoon of a Writer              2099\n",
      "2               The Monastery              5456\n",
      "3  The Ravishing of Lol Stein              9470\n",
      "4               Infinite Jest             32373\n",
      "Index(['Unnamed: 0', 'Book', 'Review', 'Review Date', 'review_word_count'], dtype='object')\n"
     ]
    }
   ],
   "source": [
    "# Here we find the books with word counts in 5 different categories, to make sure the models perform well across a range of review content.\n",
    "percentiles = [0.01, 0.07, 0.30, 0.65, 0.9999]\n",
    "targets = aggregated_reviews['Total_Word_Count'].quantile(percentiles)\n",
    "\n",
    "selected_books = pd.concat([\n",
    "    aggregated_reviews.iloc[(aggregated_reviews['Total_Word_Count'] - target).abs().argsort().head(1)]\n",
    "    for target in targets\n",
    "]).drop_duplicates(subset='Book').reset_index(drop=True)\n",
    "\n",
    "# Preview selected books\n",
    "print(\"\\n Books selected for testing:\")\n",
    "print(selected_books[['Book', 'Total_Word_Count']])\n",
    "\n",
    "print(df.columns)"
   ]
  },
  {
   "cell_type": "code",
   "execution_count": 59,
   "metadata": {},
   "outputs": [
    {
     "name": "stdout",
     "output_type": "stream",
     "text": [
      "\n",
      " Final book list for testing:\n",
      "                         Book  Total_Word_Count\n",
      "0                    Cataract               545\n",
      "1   The Afternoon of a Writer              2099\n",
      "2               The Monastery              5456\n",
      "3  The Ravishing of Lol Stein              9470\n",
      "4               Infinite Jest             32373\n",
      "5                        1984              8502\n",
      "6                 Animal Farm              7712\n",
      "7        Crime and Punishment             12839\n",
      "8                   Jane Eyre             14912\n",
      "9       To Kill a Mockingbird             12178\n"
     ]
    }
   ],
   "source": [
    "# Books to include that we have read and can manually inspect\n",
    "books_to_add = [\n",
    "    'To Kill a Mockingbird', '1984', 'Jane Eyre', 'Animal Farm', 'Crime and Punishment'\n",
    "]\n",
    "\n",
    "missing_books = [book for book in books_to_add if book not in selected_books['Book'].values]\n",
    "\n",
    "additional_books = aggregated_reviews[aggregated_reviews['Book'].isin(missing_books)]\n",
    "\n",
    "selected_books = pd.concat([selected_books, additional_books], ignore_index=True)\n",
    "\n",
    "# Preview result\n",
    "print(\"\\n Final book list for testing:\")\n",
    "print(selected_books[['Book', 'Total_Word_Count']])\n"
   ]
  },
  {
   "cell_type": "code",
   "execution_count": 60,
   "metadata": {},
   "outputs": [
    {
     "name": "stdout",
     "output_type": "stream",
     "text": [
      "\n",
      " Number of reviews for 'Infinite Jest': 30\n"
     ]
    }
   ],
   "source": [
    "book_name = 'Infinite Jest'\n",
    "book_reviews_count = df[df['Book'] == book_name].value_counts().sum()\n",
    "\n",
    "print(f\"\\n Number of reviews for '{book_name}': {book_reviews_count}\")"
   ]
  },
  {
   "cell_type": "code",
   "execution_count": 61,
   "metadata": {},
   "outputs": [
    {
     "name": "stdout",
     "output_type": "stream",
     "text": [
      "Summarizing 1/10: Cataract\n",
      "Summarizing 2/10: The Afternoon of a Writer\n",
      "Summarizing 3/10: The Monastery\n",
      "Summarizing 4/10: The Ravishing of Lol Stein\n",
      "Summarizing 5/10: Infinite Jest\n",
      "Summarizing 6/10: 1984\n",
      "Summarizing 7/10: Animal Farm\n",
      "Summarizing 8/10: Crime and Punishment\n",
      "Summarizing 9/10: Jane Eyre\n",
      "Summarizing 10/10: To Kill a Mockingbird\n",
      "\n",
      "Summary for: Cataract\n",
      "- Mykhaylo Osadchy's Cataract is world class on the level of the novel as shalamov for the short story. The book proves that we are lucky to live where we live, and to not live under the circumstances that the Soviets lived under.\n",
      "\n",
      "Summary for: The Afternoon of a Writer\n",
      "- Handke s narrator suffers from a writer s block and takes a walk around town. A sort of candy of an existional novella. It is about just what the title says. A short, curious meditation on what it is to live one of the many days that a writer may live.\n",
      "\n",
      "Summary for: The Monastery\n",
      "- The Monastery is set in Scott s beloved border country, in around 1550. The monastery of the title is the fictional Benedictine Kennaquhair based on the real, Cistercian abbey of Melrose, which survives in ruins.\n",
      "\n",
      "Summary for: The Ravishing of Lol Stein\n",
      "- The Ravishing of Lol Stein is ostensibly about passion and voyeurism and the nature of love, the meaning of obsession, the traps and tricks of perspective and point of view. It is a passionless rendering of the various forms of passion.\n",
      "\n",
      "Summary for: Infinite Jest\n",
      "- Goodreads court is now in session, the Honourable Judge Chandler presiding. Mr Wise is accused of failing to adore Infinite Jest. If found guilty, the maximum sentence I can hand down is...DEATH.\n",
      "\n",
      "Summary for: 1984\n",
      "- The world building is so fully fleshed out and spine tinglingly terrifying that it's almost as if George travelled to such a place, escaped from it, and then just wrote it all down. The society in the book has no written laws, but many acts are punishable by death. Individuality is frowned upon and could lead to being labeled a traitor to the Party.\n",
      "\n",
      "Summary for: Animal Farm\n",
      "- Animal Farm is banned in Cuba, North Korea, Burma, Iran, Kenya and most Arab countries. It is still censored in Vietnam. Amazon.com withdrew certain Amazon Kindle titles, including Animal Farm and Nineteen Eighty Four by George Orwell, from sale.\n",
      "\n",
      "Summary for: Crime and Punishment\n",
      "- First published in 1866, Crime and Punishment is the excruciatingly detailed psycho epic about the murder of a pawn shop owner and her sister. The murderer is named Raskolnikov. He is utterly unlikable smug, arrogant, temperamental, condescending and self delusional.\n",
      "\n",
      "Summary for: Jane Eyre\n",
      "- When I read it for the first time as a young and opinionated teen, I thought Jane Eyre was a boring and meek protagonist, too clingy to her 'outdated' morals. Oh naive young me, putting way too much stock in Rochester's woes after his first marriage , sleeping with everyone in Europe and rejecting them probably because they were not English enough for him.\n",
      "\n",
      "Summary for: To Kill a Mockingbird\n",
      "- This is my first re read of 2017, and I don't regret it one bit. When I first read this book three years ago, I really liked it. Sadly, I didn't write my thoughts down in an elaborate way back in the day. This book was written by a white woman, from a white perspective, about white characters, for a white audience. The Black characters in this book are objects. They have little to no agency. Things happen to them. They are harmless, defenseless, and just there waiting for the white knight hero, Atticus Finch.\n"
     ]
    }
   ],
   "source": [
    "from transformers import AutoTokenizer, AutoModelForSeq2SeqLM\n",
    "import torch\n",
    "import re\n",
    "\n",
    "tokenizer = AutoTokenizer.from_pretrained(\"facebook/bart-large-cnn\")\n",
    "model = AutoModelForSeq2SeqLM.from_pretrained(\"facebook/bart-large-cnn\")\n",
    "\n",
    "prompt = ()\n",
    "\n",
    "subset = selected_books  \n",
    "\n",
    "book_summaries = {}\n",
    "for i, row in subset.iterrows():\n",
    "    book = row['Book']\n",
    "    text = row['Aggregated_Reviews']\n",
    "    print(f\"Summarizing {i+1}/{len(subset)}: {book}\")\n",
    "\n",
    "\n",
    "    words = text.split()\n",
    "    chunks = [' '.join(words[i:i + 600]) for i in range(0, len(words), 500)]\n",
    "    chunk_input = ' '.join(chunks[:2])\n",
    "\n",
    "\n",
    "    input_text = f\"{prompt}\\n\\n{chunk_input}\"  # You can omit prompt if needed\n",
    "    inputs = tokenizer(input_text, return_tensors=\"pt\", max_length=1024, truncation=True)\n",
    "\n",
    "    output_ids = model.generate(\n",
    "        **inputs,\n",
    "        max_length=130,\n",
    "        min_length=30,\n",
    "        num_beams=4,\n",
    "        early_stopping=True\n",
    "    )\n",
    "\n",
    "    result = tokenizer.decode(output_ids[0], skip_special_tokens=True)\n",
    "\n",
    "    book_summaries[book] = result\n",
    "\n",
    "# Print summaries\n",
    "for book, summary in book_summaries.items():\n",
    "    print(f\"\\nSummary for: {book}\")\n",
    "    print(f\"- {summary}\")\n",
    "\n"
   ]
  },
  {
   "cell_type": "code",
   "execution_count": 38,
   "metadata": {},
   "outputs": [
    {
     "name": "stderr",
     "output_type": "stream",
     "text": [
      "Some weights of RobertaModel were not initialized from the model checkpoint at roberta-large and are newly initialized: ['pooler.dense.bias', 'pooler.dense.weight']\n",
      "You should probably TRAIN this model on a down-stream task to be able to use it for predictions and inference.\n"
     ]
    },
    {
     "name": "stdout",
     "output_type": "stream",
     "text": [
      "calculating scores...\n",
      "computing bert embedding.\n"
     ]
    },
    {
     "data": {
      "application/vnd.jupyter.widget-view+json": {
       "model_id": "39cd8dd63bb74cc69d32d1d38cb49296",
       "version_major": 2,
       "version_minor": 0
      },
      "text/plain": [
       "  0%|          | 0/1 [00:00<?, ?it/s]"
      ]
     },
     "metadata": {},
     "output_type": "display_data"
    },
    {
     "name": "stdout",
     "output_type": "stream",
     "text": [
      "computing greedy matching.\n"
     ]
    },
    {
     "data": {
      "application/vnd.jupyter.widget-view+json": {
       "model_id": "4c22df8c0b5947578f3b1415cc529b3c",
       "version_major": 2,
       "version_minor": 0
      },
      "text/plain": [
       "  0%|          | 0/1 [00:00<?, ?it/s]"
      ]
     },
     "metadata": {},
     "output_type": "display_data"
    },
    {
     "name": "stdout",
     "output_type": "stream",
     "text": [
      "done in 6.59 seconds, 1.52 sentences/sec\n",
      "\n",
      " BERTScore Results:\n",
      "**Cataract** — F1: 0.8338, Precision: 0.8781, Recall: 0.7937\n",
      "**The Afternoon of a Writer** — F1: 0.8594, Precision: 0.9138, Recall: 0.8110\n",
      "**The History of the Siege of Lisbon** — F1: 0.8680, Precision: 0.9449, Recall: 0.8026\n",
      "**Flaubert's Parrot** — F1: 0.8711, Precision: 0.9549, Recall: 0.8008\n",
      "**Infinite Jest** — F1: 0.8139, Precision: 0.8602, Recall: 0.7723\n",
      "**1984** — F1: 0.8425, Precision: 0.8825, Recall: 0.8060\n",
      "**Animal Farm** — F1: 0.8536, Precision: 0.9227, Recall: 0.7941\n",
      "**Crime and Punishment** — F1: 0.8457, Precision: 0.8995, Recall: 0.7981\n",
      "**Jane Eyre** — F1: 0.8330, Precision: 0.8710, Recall: 0.7981\n",
      "**To Kill a Mockingbird** — F1: 0.8958, Precision: 0.9601, Recall: 0.8397\n",
      "\n",
      " **Average F1**: 0.8517\n"
     ]
    }
   ],
   "source": [
    "from bert_score import score\n",
    "\n",
    "candidates = [book_summaries[book] for book in selected_books['Book']]\n",
    "\n",
    "references = [selected_books[selected_books['Book'] == book]['Aggregated_Reviews'].values[0]\n",
    "              for book in selected_books['Book']]\n",
    "\n",
    "P, R, F1 = score(candidates, references, lang=\"en\", verbose=True)\n",
    "\n",
    "# Results\n",
    "print(\"\\n BERTScore Results:\")\n",
    "for i, book in enumerate(selected_books['Book']):\n",
    "    print(f\"{book} — F1: {F1[i].item():.4f}, Precision: {P[i].item():.4f}, Recall: {R[i].item():.4f}\")\n",
    "\n",
    "print(f\"\\n Average F1: {F1.mean().item():.4f}\")\n"
   ]
  }
 ],
 "metadata": {
  "kernelspec": {
   "display_name": "base",
   "language": "python",
   "name": "python3"
  },
  "language_info": {
   "codemirror_mode": {
    "name": "ipython",
    "version": 3
   },
   "file_extension": ".py",
   "mimetype": "text/x-python",
   "name": "python",
   "nbconvert_exporter": "python",
   "pygments_lexer": "ipython3",
   "version": "3.12.4"
  }
 },
 "nbformat": 4,
 "nbformat_minor": 2
}
